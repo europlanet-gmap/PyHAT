{
 "cells": [
  {
   "cell_type": "code",
   "execution_count": null,
   "metadata": {},
   "outputs": [],
   "source": [
    "#Note: The following notebook may not be functioning in the latest version of PyHAT. At minimum, it requires\n",
    "#certain packages (namely vipertools) which are not incorporated into the PyHAT environment.\n",
    "\n",
    "import pandas as pd\n",
    "import pysptools.noise as pn\n",
    "import pysptools.eea as eea\n",
    "import pysptools.abundance_maps as amaps\n",
    "import numpy as np\n",
    "from vipertools.scripts.mesma import MesmaCore as mesma"
   ]
  },
  {
   "cell_type": "code",
   "execution_count": null,
   "metadata": {},
   "outputs": [],
   "source": [
    "filepath = \"path/to/spectral/data/full_db_mars_corrected_dopedTiO2_pandas_format.csv\"\n",
    "df = pd.read_csv(filepath)"
   ]
  },
  {
   "cell_type": "code",
   "execution_count": null,
   "metadata": {},
   "outputs": [],
   "source": [
    "new_df = df.loc[:10, 'wvl.1':'wvl.100']\n",
    "M = np.array(new_df)\n",
    "M = M.reshape(11, 100, 1)"
   ]
  },
  {
   "cell_type": "code",
   "execution_count": null,
   "metadata": {},
   "outputs": [],
   "source": [
    "a = np.zeros((100, 100,3))\n",
    "a[:,:,0] = 255\n",
    "\n",
    "b = np.zeros((100, 100,3))\n",
    "b[:,:,1] = 255\n",
    "\n",
    "c = np.zeros((100, 200, 3))\n",
    "c[:,:,2] = 255\n",
    "\n",
    "d = np.zeros((100, 200, 2))\n",
    "\n",
    "img = np.vstack((c, np.hstack((a, b))))\n",
    "\n",
    "a2 = np.zeros((100, 3))\n",
    "a[:,:,0] = 255\n",
    "\n",
    "b2 = np.zeros((100, 3))\n",
    "b[:,:,1] = 255\n",
    "\n",
    "# # MNF\n",
    "# MNF_OBJ = pn.MNF()\n",
    "# MNF_OBJ.apply(M)\n",
    "# r = MNF_OBJ.get_components(10)\n",
    "# print(\"MNF Output: {}\".format(r))\n",
    "\n",
    "# # PPI\n",
    "# ppi_obj = eea.PPI()\n",
    "# x = ppi_obj.extract(M, 2)\n",
    "# print(\"PPI Output: {}\".format(x))\n",
    "\n",
    "\n",
    "# # N-FINDR\n",
    "# n_findr = eea.NFINDR()\n",
    "# x = n_findr.extract(M, 2)\n",
    "# print(\"N-FINDR Output: {}\".format(x))\n",
    "\n",
    "\n",
    "# # ATGP\n",
    "# atgp = eea.ATGP()\n",
    "# x = atgp.extract(M, 2)\n",
    "# print(\"ATGP Output: {}\".format(x))\n",
    "\n",
    "# # FIPPI\n",
    "# fippi = eea.FIPPI()\n",
    "# x = fippi.extract(img, 2)\n",
    "# print(\"FIPPI Output: {}\".format(x))\n",
    "\n",
    "\n",
    "# # NNLS\n",
    "# nnls = amaps.NNLS()\n",
    "# x = nnls.map(M=img, U=a2)\n",
    "# print(\"NNLS Output: {}\".format(x))\n",
    "\n",
    "# MESMA\n",
    "# REFERENCE: https://viper-tools.readthedocs.io/en/latest/_modules/vipertools/scripts/mesma.html#MesmaCore\n",
    "# mesma_obj = mesma()\n",
    "# x = mesma_obj.execute(img)\n"
   ]
  },
  {
   "cell_type": "code",
   "execution_count": null,
   "metadata": {},
   "outputs": [],
   "source": []
  }
 ],
 "metadata": {
  "kernelspec": {
   "display_name": "Python 3",
   "language": "python",
   "name": "python3"
  },
  "language_info": {
   "codemirror_mode": {
    "name": "ipython",
    "version": 3
   },
   "file_extension": ".py",
   "mimetype": "text/x-python",
   "name": "python",
   "nbconvert_exporter": "python",
   "pygments_lexer": "ipython3",
   "version": "3.9.2"
  }
 },
 "nbformat": 4,
 "nbformat_minor": 2
}
