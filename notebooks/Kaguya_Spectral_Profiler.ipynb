{
 "cells": [
  {
   "cell_type": "code",
   "execution_count": 2,
   "metadata": {},
   "outputs": [
    {
     "name": "stdout",
     "output_type": "stream",
     "text": [
      "Populating the interactive namespace from numpy and matplotlib\n"
     ]
    }
   ],
   "source": [
    "#The following two lines may be required\n",
    "import sys\n",
    "sys.path.append('/Users/tgabriel/Research/software/PyHAT-dev/PyHAT/')\n",
    "import libpyhat as phat\n",
    "import plio.io.io_spectral_profiler as isp\n",
    "from IPython.display import display, HTML\n",
    "%pylab inline"
   ]
  },
  {
   "cell_type": "markdown",
   "metadata": {},
   "source": [
    "The Spectral_Profiler object `s` represents the entirety of the data object.  It has the following attributes:\n",
    "\n",
    "  - `ancillary_data` containing a dict of data extracted from the binary\n",
    "  - `label` containing a custom dict of PVL objects\n",
    "  - `spectra` containing a dict of spectra keyed with a simple count of the observations, e.g. keys=[1, 2, 3, ..., n]\n",
    "      -  Each spectra is then a `Spectra` (Subclass of a pandas DataFrame)\n",
    "  - `wavelengths` contianing a pandas series with the wavelengths for the observations.  Each spectra is also indexed by the wavelengt\n",
    "\n",
    "For all of the extraction, `cleaned` is set to `False`, indidcating that the data should not be cleaned with the QA information."
   ]
  },
  {
   "cell_type": "markdown",
   "metadata": {},
   "source": [
    "## Level 2C"
   ]
  },
  {
   "cell_type": "code",
   "execution_count": 7,
   "metadata": {
    "scrolled": false
   },
   "outputs": [
    {
     "ename": "KeyError",
     "evalue": "'SP_2C_02_05496_N710_E0306.spc not found in built-in examples'",
     "output_type": "error",
     "traceback": [
      "\u001b[0;31m---------------------------------------------------------------------------\u001b[0m",
      "\u001b[0;31mKeyError\u001b[0m                                  Traceback (most recent call last)",
      "\u001b[0;32m<ipython-input-7-f56d430dc347>\u001b[0m in \u001b[0;36m<module>\u001b[0;34m\u001b[0m\n\u001b[0;32m----> 1\u001b[0;31m \u001b[0ms\u001b[0m \u001b[0;34m=\u001b[0m \u001b[0misp\u001b[0m\u001b[0;34m.\u001b[0m\u001b[0mSpectral_Profiler\u001b[0m\u001b[0;34m(\u001b[0m\u001b[0mphat\u001b[0m\u001b[0;34m.\u001b[0m\u001b[0mexamples\u001b[0m\u001b[0;34m.\u001b[0m\u001b[0mget_path\u001b[0m\u001b[0;34m(\u001b[0m\u001b[0;34m'SP_2C_02_05496_N710_E0306.spc'\u001b[0m\u001b[0;34m)\u001b[0m\u001b[0;34m,\u001b[0m \u001b[0mcleaned\u001b[0m\u001b[0;34m=\u001b[0m\u001b[0;32mFalse\u001b[0m\u001b[0;34m)\u001b[0m\u001b[0;34m\u001b[0m\u001b[0;34m\u001b[0m\u001b[0m\n\u001b[0m",
      "\u001b[0;32m~/Research/software/PyHAT-dev/PyHAT/libpyhat/examples/__init__.py\u001b[0m in \u001b[0;36mget_path\u001b[0;34m(example_name)\u001b[0m\n\u001b[1;32m     42\u001b[0m         \u001b[0;32mreturn\u001b[0m \u001b[0mos\u001b[0m\u001b[0;34m.\u001b[0m\u001b[0mpath\u001b[0m\u001b[0;34m.\u001b[0m\u001b[0mjoin\u001b[0m\u001b[0;34m(\u001b[0m\u001b[0mbase\u001b[0m\u001b[0;34m,\u001b[0m \u001b[0;34m'examples'\u001b[0m\u001b[0;34m,\u001b[0m \u001b[0mexample_name\u001b[0m\u001b[0;34m)\u001b[0m\u001b[0;34m\u001b[0m\u001b[0;34m\u001b[0m\u001b[0m\n\u001b[1;32m     43\u001b[0m     \u001b[0;32melse\u001b[0m\u001b[0;34m:\u001b[0m\u001b[0;34m\u001b[0m\u001b[0;34m\u001b[0m\u001b[0m\n\u001b[0;32m---> 44\u001b[0;31m         \u001b[0;32mraise\u001b[0m \u001b[0mKeyError\u001b[0m\u001b[0;34m(\u001b[0m\u001b[0mexample_name\u001b[0m \u001b[0;34m+\u001b[0m \u001b[0;34m' not found in built-in examples'\u001b[0m\u001b[0;34m)\u001b[0m\u001b[0;34m\u001b[0m\u001b[0;34m\u001b[0m\u001b[0m\n\u001b[0m\u001b[1;32m     45\u001b[0m \u001b[0;34m\u001b[0m\u001b[0m\n\u001b[1;32m     46\u001b[0m \u001b[0;34m\u001b[0m\u001b[0m\n",
      "\u001b[0;31mKeyError\u001b[0m: 'SP_2C_02_05496_N710_E0306.spc not found in built-in examples'"
     ]
    }
   ],
   "source": [
    "#This is currently broken, as the .spc file is not shipped with pyhat currently.\n",
    "s = isp.Spectral_Profiler(phat.examples.get_path('SP_2C_02_05496_N710_E0306/SP_2C_02_05496_N710_E0306.spc'), cleaned=False)"
   ]
  },
  {
   "cell_type": "markdown",
   "metadata": {},
   "source": [
    "## Level 2B2"
   ]
  },
  {
   "cell_type": "code",
   "execution_count": 3,
   "metadata": {},
   "outputs": [],
   "source": [
    "s = sp.Spectral_Profiler('/Users/jlaura/Desktop/SP_2B2_02_05491_N411_E2171/SP_2B2_02_05491_N411_E2171.spc', cleaned=False)"
   ]
  },
  {
   "cell_type": "code",
   "execution_count": null,
   "metadata": {
    "collapsed": true
   },
   "outputs": [],
   "source": []
  }
 ],
 "metadata": {
  "kernelspec": {
   "display_name": "Python 3",
   "language": "python",
   "name": "python3"
  },
  "language_info": {
   "codemirror_mode": {
    "name": "ipython",
    "version": 3
   },
   "file_extension": ".py",
   "mimetype": "text/x-python",
   "name": "python",
   "nbconvert_exporter": "python",
   "pygments_lexer": "ipython3",
   "version": "3.9.2"
  }
 },
 "nbformat": 4,
 "nbformat_minor": 1
}
