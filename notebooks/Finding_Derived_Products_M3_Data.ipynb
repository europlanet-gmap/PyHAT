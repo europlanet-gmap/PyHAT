{
 "cells": [
  {
   "cell_type": "code",
   "execution_count": null,
   "metadata": {},
   "outputs": [],
   "source": [
    "#Note: Some of the functionalities in this notebook do not work in the current PyHAT version.\n",
    "\n",
    "## An example that demonstrates the manipulation, visualization, and analysis of M-cubed (M3) data"
   ]
  },
  {
   "cell_type": "code",
   "execution_count": null,
   "metadata": {},
   "outputs": [],
   "source": [
    "#The following two lines may be required to point the notebook to your PyHAT install\n",
    "import sys\n",
    "sys.path.append('[PATH TO PYHAT REPO]')\n",
    "\n",
    "import libpyhat as phat\n",
    "import libpyhat.pyhat_io.io_moon_mineralogy_mapper as io_moon_mineralogy_mapper\n",
    "%pylab inline"
   ]
  },
  {
   "cell_type": "markdown",
   "metadata": {},
   "source": [
    "## Basic M3 I/O"
   ]
  },
  {
   "cell_type": "code",
   "execution_count": null,
   "metadata": {},
   "outputs": [],
   "source": [
    "m = io_moon_mineralogy_mapper.open(phat.examples.get_path('M3_4030seg_L2_aristcrater.tif'))"
   ]
  },
  {
   "cell_type": "markdown",
   "metadata": {},
   "source": [
    "## Visualize one of the bands by index"
   ]
  },
  {
   "cell_type": "code",
   "execution_count": null,
   "metadata": {},
   "outputs": [],
   "source": [
    "imshow(m[0], cmap='Greys')\n",
    "colorbar()"
   ]
  },
  {
   "cell_type": "markdown",
   "metadata": {},
   "source": [
    "## Get the available wavelengths"
   ]
  },
  {
   "cell_type": "code",
   "execution_count": null,
   "metadata": {},
   "outputs": [],
   "source": [
    "#For some reason, this file does not have the wavelength attribute which breaks everything that follows.\n",
    "m.wavelengths"
   ]
  },
  {
   "cell_type": "markdown",
   "metadata": {},
   "source": [
    "## Visualize by wavelength with tolerances enabled\n",
    "\n",
    "The idea behind tolerances is to be able to control how many decimal places are included for label based access.  The default tolerance is 2, meaning that all wavelength labels (not the actual values, but the labels by which data are accessible) is rounded to two decimal places.\n",
    "\n",
    "Below, we access the private variable `_original_wavelengths` to demonstrate that the actual wavelengths are being preserverd.  We can compate the final entry `700.539978` with the label representation `700.54` (above)."
   ]
  },
  {
   "cell_type": "code",
   "execution_count": null,
   "metadata": {},
   "outputs": [],
   "source": [
    "m._original_wavelengths[:5]"
   ]
  },
  {
   "cell_type": "markdown",
   "metadata": {},
   "source": [
    "It is possible to alter the labels by altering the tolerance value.  For example, below the tolerance is set to five decimal places."
   ]
  },
  {
   "cell_type": "code",
   "execution_count": null,
   "metadata": {},
   "outputs": [],
   "source": [
    "m.tolerance = 5\n",
    "m.wavelengths[:5]  # Print the first 5 wavelengths"
   ]
  },
  {
   "cell_type": "code",
   "execution_count": null,
   "metadata": {},
   "outputs": [],
   "source": [
    "m.tolerance = 2"
   ]
  },
  {
   "cell_type": "markdown",
   "metadata": {},
   "source": [
    "## Label Based Access"
   ]
  },
  {
   "cell_type": "code",
   "execution_count": null,
   "metadata": {},
   "outputs": [],
   "source": [
    "imshow(m.loc[700], cmap='Greys')\n",
    "colorbar()"
   ]
  },
  {
   "cell_type": "code",
   "execution_count": null,
   "metadata": {},
   "outputs": [],
   "source": [
    "m.wavelengths"
   ]
  },
  {
   "cell_type": "code",
   "execution_count": null,
   "metadata": {},
   "outputs": [],
   "source": [
    "imshow(m.loc[2616], cmap='Greys')\n",
    "colorbar()"
   ]
  },
  {
   "cell_type": "markdown",
   "metadata": {},
   "source": [
    "## Label Based Access in an ROI\n",
    "Suppose that the crater is of particular interest.  In this isntance, a slice can be taken from the data where the indexer looks like `[1149, 20:40, 0:20]`.  The first element (`1149`) is the label wavelength.  The second (`20:40`, y-axis) and third (`0:20`, x-axis) are positional in pixel space and are in `start:stop` form."
   ]
  },
  {
   "cell_type": "code",
   "execution_count": null,
   "metadata": {},
   "outputs": [],
   "source": [
    "imshow(m.loc[1149, 20:40, 0:20], cmap='Blues')\n",
    "colorbar()"
   ]
  },
  {
   "cell_type": "markdown",
   "metadata": {},
   "source": [
    "## Label Based Access for an RGB False Color\n",
    "Here 3 bands are pulled from the image and not ROI is defined.  Notice that the three bands are specified inside of a list `[1978, 540, 770]` and that that list is inside of the `loc` list, e.g., `[[1978, 540, 770]]`.  If one wanted to also specify an ROI, the syntax would be `[[1978, 540, 770], ystart:ystop, xstart:xstop]`."
   ]
  },
  {
   "cell_type": "code",
   "execution_count": null,
   "metadata": {},
   "outputs": [],
   "source": [
    "arr = m.loc[[1978, 540, 770]]\n",
    "arr = np.moveaxis(arr, 0, -1)  # The axis movement is required for a 3 band plot.\n",
    "imshow(arr)"
   ]
  },
  {
   "cell_type": "code",
   "execution_count": null,
   "metadata": {},
   "outputs": [],
   "source": [
    "from libpyhat.derived.m3 import pipe, new, development_funcs, supplemental"
   ]
  },
  {
   "cell_type": "markdown",
   "metadata": {},
   "source": [
    "## What are the available derived products for M3.pipe?"
   ]
  },
  {
   "cell_type": "code",
   "execution_count": null,
   "metadata": {},
   "outputs": [],
   "source": [
    "available = [i for i in dir(pipe) if not i.startswith('__')]\n",
    "print(available)"
   ]
  },
  {
   "cell_type": "markdown",
   "metadata": {},
   "source": [
    "### Band Depth @ 620"
   ]
  },
  {
   "cell_type": "code",
   "execution_count": null,
   "metadata": {},
   "outputs": [],
   "source": [
    "imshow(pipe.bd1900(m), cmap='Greens')\n",
    "colorbar()"
   ]
  },
  {
   "cell_type": "markdown",
   "metadata": {},
   "source": [
    "### H20 1st Algorithm"
   ]
  },
  {
   "cell_type": "code",
   "execution_count": null,
   "metadata": {},
   "outputs": [],
   "source": [
    "# TODO: Does this still exist? Find out to see if we can delete this cell.\n",
    "\n",
    "imshow(development_funcs.h2o1(m), cmap='Blues')\n",
    "colorbar()"
   ]
  },
  {
   "cell_type": "code",
   "execution_count": null,
   "metadata": {},
   "outputs": [],
   "source": [
    "imshow(pipe.twoum_slope(m), cmap='Reds')\n",
    "colorbar()"
   ]
  },
  {
   "cell_type": "markdown",
   "metadata": {},
   "source": [
    "## Derived Product with an ROI\n",
    "This is currently not an ideal solution and we are thinking about how better to implement this. In short, the convenience functions, e.g., `pipe.twoum_slope` expect to get a `GeoDataset` object (what the m3 object is in this notebook).  When we start to slice (subset to an ROI) a standard numpy array is returned.  Therefore, the `pipe.twoum_slope` function will not work directly on a subset. The `pipe.twoum_slope` dispatches to another function that does the heavy lifting.  In the example, below, we call that function directly.  \n",
    "\n",
    "In the short term, we suggest that end users subset their images to some ROI using a tool like gdal_translate and use those data within PyHAT."
   ]
  },
  {
   "cell_type": "code",
   "execution_count": null,
   "metadata": {},
   "outputs": [],
   "source": [
    "from libpyhat.derived.m3 import pipe_funcs\n",
    "imshow(pipe_funcs.twoum_slope_func(m.loc[[1578, 2538], 20:40, 0:20]), cmap='Oranges')\n",
    "colorbar()"
   ]
  },
  {
   "cell_type": "code",
   "execution_count": null,
   "metadata": {},
   "outputs": [],
   "source": []
  }
 ],
 "metadata": {
  "kernelspec": {
   "display_name": "Python 3",
   "language": "python",
   "name": "python3"
  },
  "language_info": {
   "codemirror_mode": {
    "name": "ipython",
    "version": 3
   },
   "file_extension": ".py",
   "mimetype": "text/x-python",
   "name": "python",
   "nbconvert_exporter": "python",
   "pygments_lexer": "ipython3",
   "version": "3.9.2"
  }
 },
 "nbformat": 4,
 "nbformat_minor": 2
}
