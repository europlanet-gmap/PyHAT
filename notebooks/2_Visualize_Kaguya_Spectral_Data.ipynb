{
 "cells": [
  {
   "cell_type": "markdown",
   "metadata": {},
   "source": [
    "## Viewing Spectral Profiler Data\n",
    "This assumes you've already worked through the previous notebook for acessing and manipulating Kaguya data. So the first few steps shouldn't be new to you."
   ]
  },
  {
   "cell_type": "code",
   "execution_count": 21,
   "metadata": {},
   "outputs": [],
   "source": [
    "import libpyhat as pyhat\n",
    "from libpyhat.examples import get_path\n",
    "import plio.io.io_spectral_profiler as isp"
   ]
  },
  {
   "cell_type": "code",
   "execution_count": 22,
   "metadata": {},
   "outputs": [],
   "source": [
    "profile = isp.Spectral_Profiler(get_path('SP_2C_02_02358_S138_E3586.spc'))\n",
    "s       = profile.spectra"
   ]
  },
  {
   "cell_type": "markdown",
   "metadata": {},
   "source": [
    "# Access the REF1 data\n",
    "Here we're going to grab the REF1 data (Mare-correction) from the first observation (0) and slice off any wavelengths less than 700 and greater than 1600 - all at once!"
   ]
  },
  {
   "cell_type": "code",
   "execution_count": 23,
   "metadata": {},
   "outputs": [
    {
     "name": "stdout",
     "output_type": "stream",
     "text": [
      "704.7     0.0809\n",
      "710.8     0.0819\n",
      "716.7     0.0830\n",
      "722.7     0.0832\n",
      "728.7     0.0844\n",
      "           ...  \n",
      "1563.7    0.1698\n",
      "1571.7    0.1699\n",
      "1579.6    0.1716\n",
      "1587.7    0.1759\n",
      "1595.7    0.1733\n",
      "Name: REF1, Length: 122, dtype: float64\n"
     ]
    }
   ],
   "source": [
    "subs = s[0]['REF1'][700:1600]\n",
    "\n",
    "#This should show two columns, one with wavelength and the other with REF1 values\n",
    "print(subs)"
   ]
  },
  {
   "cell_type": "markdown",
   "metadata": {},
   "source": [
    "We can grab just the wavelength and just the data by doing the following:"
   ]
  },
  {
   "cell_type": "code",
   "execution_count": 24,
   "metadata": {},
   "outputs": [
    {
     "name": "stdout",
     "output_type": "stream",
     "text": [
      "data [0.0809 0.0819 0.083  0.0832 0.0844 0.0842 0.0861 0.0858 0.0864 0.0872\n",
      " 0.0879 0.0883 0.0885 0.0893 0.0895 0.0909 0.0905 0.0912 0.091  0.0923\n",
      " 0.0919 0.0924 0.0925 0.0932 0.0928 0.097  0.0922 0.0977 0.0934 0.0948\n",
      " 0.0958 0.0956 0.096  0.0973 0.0977 0.0977 0.0992 0.0996 0.1011 0.1016\n",
      " 0.1027 0.103  0.1053 0.106  0.1066 0.1074 0.1094 0.1086 0.1132 0.1137\n",
      " 0.1138 0.1159 0.1163 0.1171 0.1186 0.1191 0.1202 0.1213 0.1234 0.1257\n",
      " 0.1255 0.1271 0.1286 0.1276 0.1282 0.1286 0.1288 0.1308 0.1304 0.1324\n",
      " 0.1345 0.135  0.1366 0.1371 0.1365 0.1381 0.1381 0.1396 0.1395 0.1412\n",
      " 0.1422 0.141  0.1469 0.1453 0.1467 0.1467 0.1488 0.1482 0.1491 0.1519\n",
      " 0.1533 0.154  0.1548 0.1555 0.1565 0.1574 0.1584 0.1586 0.1601 0.1588\n",
      " 0.1614 0.1601 0.1623 0.1618 0.163  0.1659 0.1665 0.1645 0.164  0.164\n",
      " 0.1679 0.1667 0.1673 0.1681 0.1697 0.1692 0.171  0.1698 0.1699 0.1716\n",
      " 0.1759 0.1733]\n",
      "wavelengths Float64Index([             704.7,  710.8000000000001,              716.7,\n",
      "                           722.7,              728.7,              734.7,\n",
      "                           740.7,  746.8000000000001,  752.8000000000001,\n",
      "                           758.7,\n",
      "              ...\n",
      "              1523.8000000000002,             1531.7,             1539.7,\n",
      "                          1547.7,             1555.5,             1563.7,\n",
      "                          1571.7, 1579.6000000000001,             1587.7,\n",
      "                          1595.7],\n",
      "             dtype='float64', length=122)\n"
     ]
    }
   ],
   "source": [
    "#Spectral data\n",
    "wv = subs.index\n",
    "#Wavelengths data\n",
    "data   = subs.values\n",
    "print('data',data)\n",
    "print('wavelengths',wv)"
   ]
  },
  {
   "cell_type": "markdown",
   "metadata": {},
   "source": [
    "## Continuum Correct the Data\n",
    "Now lets say you want to perform a 'continuum correction' to data within a certain range. We can use the continuum_correction function as part of PyHAT to do so."
   ]
  },
  {
   "cell_type": "code",
   "execution_count": 25,
   "metadata": {},
   "outputs": [
    {
     "name": "stderr",
     "output_type": "stream",
     "text": [
      "/home/tgabriel/PyHAT/libpyhat/transform/continuum.py:106: FutureWarning: Using a non-tuple sequence for multidimensional indexing is deprecated; use `arr[tuple(seq)]` instead of `arr[seq]`. In the future this will be interpreted as an array index, `arr[np.array(seq)]`, which will result either in an error or a different result.\n",
      "  y = np.apply_along_axis(correction, axis, data[nodeidx],\n",
      "/home/tgabriel/PyHAT/libpyhat/transform/continuum.py:111: FutureWarning: Using a non-tuple sequence for multidimensional indexing is deprecated; use `arr[tuple(seq)]` instead of `arr[seq]`. In the future this will be interpreted as an array index, `arr[np.array(seq)]`, which will result either in an error or a different result.\n",
      "  corrected[corridx] = data[corridx] / y\n",
      "/home/tgabriel/PyHAT/libpyhat/transform/continuum.py:112: FutureWarning: Using a non-tuple sequence for multidimensional indexing is deprecated; use `arr[tuple(seq)]` instead of `arr[seq]`. In the future this will be interpreted as an array index, `arr[np.array(seq)]`, which will result either in an error or a different result.\n",
      "  denom[corridx] = y\n"
     ]
    }
   ],
   "source": [
    "#The third, and seemingly foreign, argument is just the nodes\n",
    "#(wavelength points) between which you want to apply the correction.\n",
    "#The function call might yell at you (Python 'FutureWarning' error), but this\n",
    "#is not due to anything you did wrong here!.\n",
    "x = pyhat.continuum.continuum_correction(data, wv, [704, 1596])"
   ]
  },
  {
   "cell_type": "markdown",
   "metadata": {},
   "source": [
    "## Visualization: Plotting the Corrected Continuum\n",
    "It's usually useful to visualize your data at some point, so let's use the spectra plotter in PyHAT to do so."
   ]
  },
  {
   "cell_type": "code",
   "execution_count": 27,
   "metadata": {},
   "outputs": [
    {
     "data": {
      "text/plain": [
       "<AxesSubplot:title={'center':'Continuum correction'}>"
      ]
     },
     "execution_count": 27,
     "metadata": {},
     "output_type": "execute_result"
    },
    {
     "data": {
      "image/png": "[encoded data removed]",
      "text/plain": [
       "<Figure size 432x288 with 1 Axes>"
      ]
     },
     "metadata": {
      "needs_background": "light"
     },
     "output_type": "display_data"
    }
   ],
   "source": [
    "#Plot pre-correction data\n",
    "subs.plot(title='Continuum correction')\n",
    "\n",
    "#Perform correction\n",
    "subs.loc[700:1600] -= x[1]\n",
    "\n",
    "#Plot post-correction data\n",
    "subs.plot()\n"
   ]
  },
  {
   "cell_type": "markdown",
   "metadata": {},
   "source": [
    "# Transformations: Methods to Alter the Spectrum\n",
    "!!! The following needs to be updated. Work in progress. !!!"
   ]
  },
  {
   "cell_type": "code",
   "execution_count": 28,
   "metadata": {},
   "outputs": [
    {
     "ename": "ModuleNotFoundError",
     "evalue": "No module named 'libpyhat.transform.utils'",
     "output_type": "error",
     "traceback": [
      "\u001b[0;31m---------------------------------------------------------------------------\u001b[0m",
      "\u001b[0;31mModuleNotFoundError\u001b[0m                       Traceback (most recent call last)",
      "\u001b[0;32m<ipython-input-28-7b5923b64806>\u001b[0m in \u001b[0;36m<module>\u001b[0;34m\u001b[0m\n\u001b[0;32m----> 1\u001b[0;31m \u001b[0;32mfrom\u001b[0m \u001b[0mlibpyhat\u001b[0m\u001b[0;34m.\u001b[0m\u001b[0mtransform\u001b[0m\u001b[0;34m.\u001b[0m\u001b[0mutils\u001b[0m \u001b[0;32mimport\u001b[0m \u001b[0mboxcar\u001b[0m\u001b[0;34m\u001b[0m\u001b[0;34m\u001b[0m\u001b[0m\n\u001b[0m",
      "\u001b[0;31mModuleNotFoundError\u001b[0m: No module named 'libpyhat.transform.utils'"
     ]
    }
   ],
   "source": [
    "from libpyhat.transform.smooth. import boxcar"
   ]
  },
  {
   "cell_type": "code",
   "execution_count": null,
   "metadata": {},
   "outputs": [],
   "source": [
    "subs.plot()"
   ]
  },
  {
   "cell_type": "code",
   "execution_count": null,
   "metadata": {},
   "outputs": [],
   "source": [
    "b = boxcar(a.get[0])\n",
    "b = b.iloc[1:-1]\n",
    "b.plot()"
   ]
  },
  {
   "cell_type": "markdown",
   "metadata": {},
   "source": [
    "## Horgan Analytics \n",
    "Here we demonstrate the application of some analysis methods published by Briony Horgan."
   ]
  },
  {
   "cell_type": "code",
   "execution_count": null,
   "metadata": {},
   "outputs": [],
   "source": [
    "from libpyhat.transform.utils import band_area, band_asymmetry, band_center, band_minima"
   ]
  },
  {
   "cell_type": "markdown",
   "metadata": {},
   "source": [
    "### Find the band minima between two end members"
   ]
  },
  {
   "cell_type": "code",
   "execution_count": null,
   "metadata": {},
   "outputs": [],
   "source": [
    "center, wv = band_minima(b, 800, 1000)\n",
    "b.plot()\n",
    "plot(center, wv, 'r*')"
   ]
  },
  {
   "cell_type": "markdown",
   "metadata": {},
   "source": [
    "### Fit an nth degree polynomial to band center"
   ]
  },
  {
   "cell_type": "code",
   "execution_count": null,
   "metadata": {},
   "outputs": [],
   "source": [
    "center, center_fit = band_center(b, 800, 1000)\n",
    "b.plot()\n",
    "center_fit.plot(linewidth=3)"
   ]
  },
  {
   "cell_type": "markdown",
   "metadata": {},
   "source": [
    "### Area under 1um"
   ]
  },
  {
   "cell_type": "code",
   "execution_count": null,
   "metadata": {},
   "outputs": [],
   "source": [
    "band_area(b, 750, 1000)"
   ]
  },
  {
   "cell_type": "code",
   "execution_count": null,
   "metadata": {},
   "outputs": [],
   "source": []
  }
 ],
 "metadata": {
  "kernelspec": {
   "display_name": "Python 3",
   "language": "python",
   "name": "python3"
  },
  "language_info": {
   "codemirror_mode": {
    "name": "ipython",
    "version": 3
   },
   "file_extension": ".py",
   "mimetype": "text/x-python",
   "name": "python",
   "nbconvert_exporter": "python",
   "pygments_lexer": "ipython3",
   "version": "3.9.1"
  }
 },
 "nbformat": 4,
 "nbformat_minor": 2
}
